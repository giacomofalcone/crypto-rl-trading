{
 "cells": [
  {
   "cell_type": "markdown",
   "metadata": {},
   "source": [
    "# 0. Install and Import dependencies"
   ]
  },
  {
   "cell_type": "code",
   "execution_count": 7,
   "metadata": {
    "scrolled": true
   },
   "outputs": [
    {
     "name": "stdout",
     "output_type": "stream",
     "text": [
      "Requirement already satisfied: finta in c:\\users\\giaco\\anaconda3\\lib\\site-packages (1.3)\n",
      "Requirement already satisfied: numpy in c:\\users\\giaco\\anaconda3\\lib\\site-packages (from finta) (1.23.5)\n",
      "Requirement already satisfied: pandas in c:\\users\\giaco\\anaconda3\\lib\\site-packages (from finta) (2.1.4)\n",
      "Requirement already satisfied: python-dateutil>=2.8.2 in c:\\users\\giaco\\anaconda3\\lib\\site-packages (from pandas->finta) (2.8.2)\n",
      "Requirement already satisfied: pytz>=2020.1 in c:\\users\\giaco\\anaconda3\\lib\\site-packages (from pandas->finta) (2023.3.post1)\n",
      "Requirement already satisfied: tzdata>=2022.1 in c:\\users\\giaco\\anaconda3\\lib\\site-packages (from pandas->finta) (2023.3)\n",
      "Requirement already satisfied: six>=1.5 in c:\\users\\giaco\\anaconda3\\lib\\site-packages (from python-dateutil>=2.8.2->pandas->finta) (1.16.0)\n"
     ]
    }
   ],
   "source": [
    "!pip install finta"
   ]
  },
  {
   "cell_type": "code",
   "execution_count": 1,
   "metadata": {},
   "outputs": [],
   "source": [
    "import os\n",
    "import numpy as np\n",
    "import pandas as pd\n",
    "from matplotlib import pyplot as plt"
   ]
  },
  {
   "cell_type": "markdown",
   "metadata": {},
   "source": [
    "# 1. Load BTCUSD Data \n",
    "https://www.coingecko.com/it/monete/bitcoin/historical_data?start=2025-01-01&end=2025-05-26\r\n",
    "https://www.marketwatch.com/investing/cryptocurrency/btcusd/download-data?mod=mw_quote_ta\r\n"
   ]
  },
  {
   "cell_type": "code",
   "execution_count": 10,
   "metadata": {},
   "outputs": [
    {
     "data": {
      "text/html": [
       "<div>\n",
       "<style scoped>\n",
       "    .dataframe tbody tr th:only-of-type {\n",
       "        vertical-align: middle;\n",
       "    }\n",
       "\n",
       "    .dataframe tbody tr th {\n",
       "        vertical-align: top;\n",
       "    }\n",
       "\n",
       "    .dataframe thead th {\n",
       "        text-align: right;\n",
       "    }\n",
       "</style>\n",
       "<table border=\"1\" class=\"dataframe\">\n",
       "  <thead>\n",
       "    <tr style=\"text-align: right;\">\n",
       "      <th></th>\n",
       "      <th>date</th>\n",
       "      <th>open</th>\n",
       "      <th>high</th>\n",
       "      <th>low</th>\n",
       "      <th>close</th>\n",
       "      <th>volume</th>\n",
       "      <th>sma</th>\n",
       "      <th>rsi</th>\n",
       "      <th>sma_200</th>\n",
       "      <th>distance_from_sma_200</th>\n",
       "      <th>volatility_100</th>\n",
       "      <th>position_in_200_range</th>\n",
       "    </tr>\n",
       "  </thead>\n",
       "  <tbody>\n",
       "    <tr>\n",
       "      <th>0</th>\n",
       "      <td>2022-12-18</td>\n",
       "      <td>16706</td>\n",
       "      <td>16798</td>\n",
       "      <td>16669</td>\n",
       "      <td>16760</td>\n",
       "      <td>1.508638e+10</td>\n",
       "      <td>17151.083333</td>\n",
       "      <td>43.941320</td>\n",
       "      <td>20502.19</td>\n",
       "      <td>-0.182526</td>\n",
       "      <td>0.029084</td>\n",
       "      <td>0.063269</td>\n",
       "    </tr>\n",
       "    <tr>\n",
       "      <th>1</th>\n",
       "      <td>2022-12-19</td>\n",
       "      <td>16760</td>\n",
       "      <td>16832</td>\n",
       "      <td>16531</td>\n",
       "      <td>16595</td>\n",
       "      <td>1.113405e+10</td>\n",
       "      <td>17131.833333</td>\n",
       "      <td>41.757976</td>\n",
       "      <td>20433.79</td>\n",
       "      <td>-0.187865</td>\n",
       "      <td>0.029052</td>\n",
       "      <td>0.052746</td>\n",
       "    </tr>\n",
       "    <tr>\n",
       "      <th>2</th>\n",
       "      <td>2022-12-20</td>\n",
       "      <td>16595</td>\n",
       "      <td>17046</td>\n",
       "      <td>16288</td>\n",
       "      <td>16862</td>\n",
       "      <td>1.771967e+10</td>\n",
       "      <td>17103.833333</td>\n",
       "      <td>46.399199</td>\n",
       "      <td>20370.34</td>\n",
       "      <td>-0.172228</td>\n",
       "      <td>0.029107</td>\n",
       "      <td>0.069775</td>\n",
       "    </tr>\n",
       "    <tr>\n",
       "      <th>3</th>\n",
       "      <td>2022-12-21</td>\n",
       "      <td>16861</td>\n",
       "      <td>16924</td>\n",
       "      <td>16738</td>\n",
       "      <td>16780</td>\n",
       "      <td>2.493822e+10</td>\n",
       "      <td>17077.083333</td>\n",
       "      <td>45.207694</td>\n",
       "      <td>20306.07</td>\n",
       "      <td>-0.173646</td>\n",
       "      <td>0.028840</td>\n",
       "      <td>0.064545</td>\n",
       "    </tr>\n",
       "    <tr>\n",
       "      <th>4</th>\n",
       "      <td>2022-12-22</td>\n",
       "      <td>16780</td>\n",
       "      <td>16863</td>\n",
       "      <td>16566</td>\n",
       "      <td>16781</td>\n",
       "      <td>1.606277e+10</td>\n",
       "      <td>17044.416667</td>\n",
       "      <td>45.226167</td>\n",
       "      <td>20239.80</td>\n",
       "      <td>-0.170891</td>\n",
       "      <td>0.027252</td>\n",
       "      <td>0.064609</td>\n",
       "    </tr>\n",
       "  </tbody>\n",
       "</table>\n",
       "</div>"
      ],
      "text/plain": [
       "         date   open   high    low  close        volume           sma  \\\n",
       "0  2022-12-18  16706  16798  16669  16760  1.508638e+10  17151.083333   \n",
       "1  2022-12-19  16760  16832  16531  16595  1.113405e+10  17131.833333   \n",
       "2  2022-12-20  16595  17046  16288  16862  1.771967e+10  17103.833333   \n",
       "3  2022-12-21  16861  16924  16738  16780  2.493822e+10  17077.083333   \n",
       "4  2022-12-22  16780  16863  16566  16781  1.606277e+10  17044.416667   \n",
       "\n",
       "         rsi   sma_200  distance_from_sma_200  volatility_100  \\\n",
       "0  43.941320  20502.19              -0.182526        0.029084   \n",
       "1  41.757976  20433.79              -0.187865        0.029052   \n",
       "2  46.399199  20370.34              -0.172228        0.029107   \n",
       "3  45.207694  20306.07              -0.173646        0.028840   \n",
       "4  45.226167  20239.80              -0.170891        0.027252   \n",
       "\n",
       "   position_in_200_range  \n",
       "0               0.063269  \n",
       "1               0.052746  \n",
       "2               0.069775  \n",
       "3               0.064545  \n",
       "4               0.064609  "
      ]
     },
     "execution_count": 10,
     "metadata": {},
     "output_type": "execute_result"
    }
   ],
   "source": [
    "# Load DataFrame\n",
    "df_btc = pd.read_csv('data/BTCUSD_processed.csv')\n",
    "df_eth = pd.read_csv('data/ETHUSD_processed.csv')\n",
    "\n",
    "df_btc.head()"
   ]
  },
  {
   "cell_type": "markdown",
   "metadata": {},
   "source": [
    "# 2. Data Cleaning"
   ]
  },
  {
   "cell_type": "markdown",
   "metadata": {},
   "source": [
    "#### BTC"
   ]
  },
  {
   "cell_type": "code",
   "execution_count": 11,
   "metadata": {},
   "outputs": [
    {
     "name": "stdout",
     "output_type": "stream",
     "text": [
      "Near-zero variance BTC columns:\n",
      "['volatility_100']\n"
     ]
    }
   ],
   "source": [
    "# Ensure 'date' is datetime\n",
    "df_btc['date'] = pd.to_datetime(df_btc['date'])\n",
    "\n",
    "# 0. Check for missing dates (assuming daily frequency)\n",
    "expected_dates_btc = pd.date_range(start=df_btc['date'].min(), end=df_btc['date'].max(), freq='D')\n",
    "missing_dates_btc = expected_dates_btc.difference(df_btc['date'])\n",
    "if not missing_dates_btc.empty:\n",
    "    print(\"Missing BTC dates:\")\n",
    "    print(missing_dates_btc.date.tolist())\n",
    "\n",
    "# 1. Check for zero-variance columns\n",
    "zero_var_cols_btc = df_btc.columns[df_btc.nunique() <= 1]\n",
    "if not zero_var_cols_btc.empty:\n",
    "    print(\"Zero-variance BTC columns:\")\n",
    "    print(zero_var_cols_btc.tolist())\n",
    "    # df_btc = df_btc.drop(columns=zero_var_cols_btc)\n",
    "\n",
    "# 2. Check for near-zero variance columns (numeric only)\n",
    "numeric_df_btc = df_btc.select_dtypes(include='number')\n",
    "threshold_btc = 0.01\n",
    "low_var_cols_btc = numeric_df_btc.var()[numeric_df_btc.var() <= threshold_btc].index\n",
    "if not low_var_cols_btc.empty:\n",
    "    print(\"Near-zero variance BTC columns:\")\n",
    "    print(low_var_cols_btc.tolist())\n",
    "    # df_btc = df_btc.drop(columns=low_var_cols_btc)\n",
    "\n",
    "# 3. Check for duplicate rows\n",
    "if df_btc.duplicated().any():\n",
    "    print(\"Duplicate BTC rows found:\", df_btc.duplicated().sum())\n",
    "    # df_btc = df_btc.drop_duplicates()\n",
    "\n",
    "# 4. Check for NaNs\n",
    "if df_btc.isna().any().any():\n",
    "    print(\"Missing BTC values (NaNs) found:\")\n",
    "    print(df_btc.isna().sum()[df_btc.isna().sum() > 0])\n",
    "\n",
    "# 5. Check for zero values\n",
    "zero_mask_btc = (numeric_df_btc == 0)\n",
    "if zero_mask_btc.any().any():\n",
    "    print(\"Zero BTC values found in columns:\")\n",
    "    print(zero_mask_btc.sum()[zero_mask_btc.sum() > 0])"
   ]
  },
  {
   "cell_type": "markdown",
   "metadata": {},
   "source": [
    "#### ETH"
   ]
  },
  {
   "cell_type": "code",
   "execution_count": 17,
   "metadata": {},
   "outputs": [
    {
     "name": "stdout",
     "output_type": "stream",
     "text": [
      "Near-zero variance ETH columns:\n",
      "['volatility_100']\n",
      "Zero ETH values found in columns:\n",
      "position_in_200_range    13\n",
      "dtype: int64\n"
     ]
    }
   ],
   "source": [
    "# Ensure 'date' is datetime\n",
    "df_eth['date'] = pd.to_datetime(df_eth['date'])\n",
    "\n",
    "# 0. Check for missing dates (assuming daily frequency)\n",
    "expected_dates_eth = pd.date_range(start=df_eth['date'].min(), end=df_eth['date'].max(), freq='D')\n",
    "missing_dates_eth = expected_dates_eth.difference(df_eth['date'])\n",
    "if not missing_dates_eth.empty:\n",
    "    print(\"Missing ETH dates:\")\n",
    "    print(missing_dates_eth.date.tolist())\n",
    "\n",
    "# 1. Check for zero-variance columns\n",
    "zero_var_cols_eth = df_eth.columns[df_eth.nunique() <= 1]\n",
    "if not zero_var_cols_eth.empty:\n",
    "    print(\"Zero-variance ETH columns:\")\n",
    "    print(zero_var_cols_eth.tolist())\n",
    "    # df_eth = df_eth.drop(columns=zero_var_cols_eth)\n",
    "\n",
    "# 2. Check for near-zero variance columns (numeric only)\n",
    "numeric_df_eth = df_eth.select_dtypes(include='number')\n",
    "threshold_eth = 0.01\n",
    "low_var_cols_eth = numeric_df_eth.var()[numeric_df_eth.var() <= threshold_eth].index\n",
    "if not low_var_cols_eth.empty:\n",
    "    print(\"Near-zero variance ETH columns:\")\n",
    "    print(low_var_cols_eth.tolist())\n",
    "    # df_eth = df_eth.drop(columns=low_var_cols_eth)\n",
    "\n",
    "# 3. Check for duplicate rows\n",
    "if df_eth.duplicated().any():\n",
    "    print(\"Duplicate ETH rows found:\", df_eth.duplicated().sum())\n",
    "    # df_eth = df_eth.drop_duplicates()\n",
    "\n",
    "# 4. Check for NaNs\n",
    "if df_eth.isna().any().any():\n",
    "    print(\"Missing ETH values (NaNs) found:\")\n",
    "    print(df_eth.isna().sum()[df_eth.isna().sum() > 0])\n",
    "\n",
    "# 5. Check for zero values\n",
    "zero_mask_eth = (numeric_df_eth == 0)\n",
    "if zero_mask_eth.any().any():\n",
    "    print(\"Zero ETH values found in columns:\")\n",
    "    print(zero_mask_eth.sum()[zero_mask_eth.sum() > 0])"
   ]
  },
  {
   "cell_type": "code",
   "execution_count": 19,
   "metadata": {},
   "outputs": [
    {
     "name": "stdout",
     "output_type": "stream",
     "text": [
      "Highly correlated ETH feature pairs:\n",
      "high                   open                     0.997301\n",
      "open                   high                     0.997301\n",
      "high                   close                    0.997243\n",
      "close                  high                     0.997243\n",
      "low                    close                    0.996735\n",
      "close                  low                      0.996735\n",
      "open                   low                      0.995524\n",
      "low                    open                     0.995524\n",
      "high                   low                      0.994964\n",
      "low                    high                     0.994964\n",
      "open                   close                    0.993721\n",
      "close                  open                     0.993721\n",
      "sma                    open                     0.982882\n",
      "open                   sma                      0.982882\n",
      "sma                    high                     0.981675\n",
      "high                   sma                      0.981675\n",
      "close                  sma                      0.977594\n",
      "sma                    close                    0.977594\n",
      "low                    sma                      0.976374\n",
      "sma                    low                      0.976374\n",
      "distance_from_sma_200  position_in_200_range    0.906282\n",
      "position_in_200_range  distance_from_sma_200    0.906282\n",
      "dtype: float64\n"
     ]
    }
   ],
   "source": [
    "import seaborn as sns\n",
    "\n",
    "# Compute correlation matrix (numeric only)\n",
    "corr_eth = df_eth.select_dtypes(include='number').corr()\n",
    "\n",
    "# Find pairs of features with high correlation\n",
    "threshold_corr_eth = 0.9\n",
    "corr_pairs_eth = corr_eth.abs().unstack().sort_values(ascending=False)\n",
    "high_corr_pairs_eth = corr_pairs_eth[(corr_pairs_eth < 1.0) & (corr_pairs_eth > threshold_corr_eth)]\n",
    "\n",
    "print(\"Highly correlated ETH feature pairs:\")\n",
    "print(high_corr_pairs_eth)"
   ]
  }
 ],
 "metadata": {
  "kernelspec": {
   "display_name": "Python 3 (ipykernel)",
   "language": "python",
   "name": "python3"
  },
  "language_info": {
   "codemirror_mode": {
    "name": "ipython",
    "version": 3
   },
   "file_extension": ".py",
   "mimetype": "text/x-python",
   "name": "python",
   "nbconvert_exporter": "python",
   "pygments_lexer": "ipython3",
   "version": "3.11.7"
  }
 },
 "nbformat": 4,
 "nbformat_minor": 4
}
